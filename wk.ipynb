{
  "nbformat": 4,
  "nbformat_minor": 0,
  "metadata": {
    "anaconda-cloud": {},
    "kernelspec": {
      "display_name": "Python [conda env:tensorflow-gpu]",
      "language": "python",
      "name": "conda-env-tensorflow-gpu-py"
    },
    "language_info": {
      "codemirror_mode": {
        "name": "ipython",
        "version": 3
      },
      "file_extension": ".py",
      "mimetype": "text/x-python",
      "name": "python",
      "nbconvert_exporter": "python",
      "pygments_lexer": "ipython3",
      "version": "3.6.2"
    },
    "colab": {
      "name": "wk.ipynb",
      "provenance": [],
      "collapsed_sections": []
    }
  },
  "cells": [
    {
      "cell_type": "code",
      "metadata": {
        "id": "g6zmj6s6prwi"
      },
      "source": [
        "import matplotlib.pyplot as plt\n",
        "import pandas as pd\n",
        "import numpy as np\n",
        "import datetime\n",
        "from sklearn.preprocessing import OneHotEncoder\n",
        "from pandas.plotting import radviz\n",
        "'''\n",
        "    构建一个具有1个隐藏层的神经网络，隐层的大小为10\n",
        "    输入层为2（或4）个特征；输出层1个节点，结果为0或1\n",
        "    当特征为2个时，表头为：'SepalLength', 'SepalWidth', 'species'，迭代1000次，正确率为100%\n",
        "    当特征为4个时，表头为：'SepalLength', 'SepalWidth', 'PetalLength', 'PetalWidth', 'species'，迭代1000次，正确率为63.64%\n",
        "'''\n",
        "\n",
        "\n",
        "# 画图看原始数据\n",
        "def draw_plot(X, Y):\n",
        "    # 用来正常显示中文标签\n",
        "    plt.rcParams['font.sans-serif'] = ['SimHei']\n",
        "\n",
        "    plt.scatter(X[0, :], X[1, :], c=Y[0, :], s=50, cmap=plt.cm.Spectral)\n",
        "    plt.title('蓝色-Versicolor， 红色-Virginica')\n",
        "    plt.xlabel('花瓣长度')\n",
        "    plt.ylabel('花瓣宽度')\n",
        "    plt.show()"
      ],
      "execution_count": null,
      "outputs": []
    },
    {
      "cell_type": "code",
      "metadata": {
        "id": "JHI1rmWuqPKw"
      },
      "source": [
        "# 1.初始化参数\n",
        "def initialize_parameters(n_x, n_h, n_y):\n",
        "    np.random.seed(2)\n",
        "\n",
        "    # 权重和偏置矩阵\n",
        "    w1 = np.random.randn(n_h, n_x) * 0.01\n",
        "    b1 = np.zeros(shape=(n_h, 1))\n",
        "    w2 = np.random.randn(n_y, n_h) * 0.01\n",
        "    b2 = np.zeros(shape=(n_y, 1))\n",
        "\n",
        "    # 通过字典存储参数\n",
        "    parameters = {'w1': w1, 'b1': b1, 'w2': w2, 'b2': b2}\n",
        "\n",
        "    return parameters"
      ],
      "execution_count": null,
      "outputs": []
    },
    {
      "cell_type": "code",
      "metadata": {
        "id": "nKlEaimkqVr7"
      },
      "source": [
        "# 2.前向传播\n",
        "def forward_propagation(X, parameters):\n",
        "    w1 = parameters['w1']\n",
        "    b1 = parameters['b1']\n",
        "    w2 = parameters['w2']\n",
        "    b2 = parameters['b2']\n",
        "\n",
        "    # 通过前向传播来计算a2\n",
        "    z1 = np.dot(w1, X) + b1     # 这个地方需注意矩阵加法：虽然(w1*X)和b1的维度不同，但可以相加\n",
        "    a1 = np.tanh(z1)            # 使用tanh作为第一层的激活函数\n",
        "    z2 = np.dot(w2, a1) + b2\n",
        "    a2 = 1 / (1 + np.exp(-z2))  # 使用sigmoid作为第二层的激活函数\n",
        "\n",
        "    # 通过字典存储参数\n",
        "    cache = {'z1': z1, 'a1': a1, 'z2': z2, 'a2': a2}\n",
        "\n",
        "    return a2, cache\n"
      ],
      "execution_count": null,
      "outputs": []
    },
    {
      "cell_type": "code",
      "metadata": {
        "id": "ziqZCKYVqZ6M"
      },
      "source": [
        "# 3.计算代价函数\n",
        "def compute_cost(a2, Y):\n",
        "    m = Y.shape[1]      # Y的列数即为总的样本数\n",
        "\n",
        "    # 采用交叉熵（cross-entropy）作为代价函数\n",
        "    logprobs = np.multiply(np.log(a2), Y) + np.multiply((1 - Y), np.log(1 - a2))\n",
        "    cost = - np.sum(logprobs) / m\n",
        "\n",
        "    return cost"
      ],
      "execution_count": null,
      "outputs": []
    },
    {
      "cell_type": "code",
      "metadata": {
        "id": "SmQMXqbpqd22"
      },
      "source": [
        "# 4.反向传播（计算代价函数的导数）\n",
        "def backward_propagation(parameters, cache, X, Y):\n",
        "    m = Y.shape[1]\n",
        "\n",
        "    w2 = parameters['w2']\n",
        "\n",
        "    a1 = cache['a1']\n",
        "    a2 = cache['a2']\n",
        "\n",
        "    # 反向传播，计算dw1、db1、dw2、db2\n",
        "    dz2 = a2 - Y\n",
        "    dw2 = (1 / m) * np.dot(dz2, a1.T)\n",
        "    db2 = (1 / m) * np.sum(dz2, axis=1, keepdims=True)\n",
        "    dz1 = np.multiply(np.dot(w2.T, dz2), 1 - np.power(a1, 2))\n",
        "    dw1 = (1 / m) * np.dot(dz1, X.T)\n",
        "    db1 = (1 / m) * np.sum(dz1, axis=1, keepdims=True)\n",
        "\n",
        "    grads = {'dw1': dw1, 'db1': db1, 'dw2': dw2, 'db2': db2}\n",
        "\n",
        "    return grads\n"
      ],
      "execution_count": null,
      "outputs": []
    },
    {
      "cell_type": "code",
      "metadata": {
        "id": "18iQiBOuqhe1"
      },
      "source": [
        "# 5.更新参数\n",
        "def update_parameters(parameters, grads, learning_rate=0.4):\n",
        "    w1 = parameters['w1']\n",
        "    b1 = parameters['b1']\n",
        "    w2 = parameters['w2']\n",
        "    b2 = parameters['b2']\n",
        "\n",
        "    dw1 = grads['dw1']\n",
        "    db1 = grads['db1']\n",
        "    dw2 = grads['dw2']\n",
        "    db2 = grads['db2']\n",
        "\n",
        "    # 更新参数\n",
        "    w1 = w1 - dw1 * learning_rate\n",
        "    b1 = b1 - db1 * learning_rate\n",
        "    w2 = w2 - dw2 * learning_rate\n",
        "    b2 = b2 - db2 * learning_rate\n",
        "\n",
        "    parameters = {'w1': w1, 'b1': b1, 'w2': w2, 'b2': b2}\n",
        "\n",
        "    return parameters"
      ],
      "execution_count": null,
      "outputs": []
    },
    {
      "cell_type": "code",
      "metadata": {
        "id": "MJzlL2xWqkVh"
      },
      "source": [
        "# 建立神经网络\n",
        "def nn_model(X, Y, n_h, n_input, n_output, num_iterations=10000, print_cost=False):\n",
        "    np.random.seed(3)\n",
        "\n",
        "    n_x = n_input           # 输入层节点数\n",
        "    n_y = n_output          # 输出层节点数\n",
        "\n",
        "    # 1.初始化参数\n",
        "    parameters = initialize_parameters(n_x, n_h, n_y)\n",
        "\n",
        "    # 梯度下降循环\n",
        "    for i in range(0, num_iterations):\n",
        "        # 2.前向传播\n",
        "        a2, cache = forward_propagation(X, parameters)\n",
        "        # 3.计算代价函数\n",
        "        cost = compute_cost(a2, Y)\n",
        "        # 4.反向传播\n",
        "        grads = backward_propagation(parameters, cache, X, Y)\n",
        "        # 5.更新参数\n",
        "        parameters = update_parameters(parameters, grads)\n",
        "\n",
        "        # 每1000次迭代，输出一次代价函数\n",
        "        if print_cost and i % 1000 == 0:\n",
        "            print('迭代第%i次，代价函数为：%f' % (i, cost))\n",
        "\n",
        "    return parameters"
      ],
      "execution_count": null,
      "outputs": []
    },
    {
      "cell_type": "code",
      "metadata": {
        "id": "aPvycBL9qpUb"
      },
      "source": [
        "# 6.模型评估\n",
        "def predict(parameters, x_test, y_test):\n",
        "    w1 = parameters['w1']\n",
        "    b1 = parameters['b1']\n",
        "    w2 = parameters['w2']\n",
        "    b2 = parameters['b2']\n",
        "\n",
        "    z1 = np.dot(w1, x_test) + b1\n",
        "    a1 = np.tanh(z1)\n",
        "    z2 = np.dot(w2, a1) + b2\n",
        "    a2 = 1 / (1 + np.exp(-z2))\n",
        "\n",
        "    # 结果的维度\n",
        "    n_rows = a2.shape[0]\n",
        "    n_cols = a2.shape[1]\n",
        "\n",
        "    # 预测值结果存储\n",
        "    output = np.empty(shape=(n_rows, n_cols), dtype=int)\n",
        "\n",
        "    for i in range(n_rows):\n",
        "        for j in range(n_cols):\n",
        "            if a2[i][j] > 0.5:\n",
        "                output[i][j] = 1\n",
        "            else:\n",
        "                output[i][j] = 0\n",
        "\n",
        "    # 将独热编码反转为标签\n",
        "    output = encoder.inverse_transform(output.T)\n",
        "    output = output.reshape(1, output.shape[0])\n",
        "    output = output.flatten()\n",
        "\n",
        "    print('预测结果：', output)\n",
        "    print('真实结果：', y_test)\n",
        "\n",
        "    count = 0\n",
        "    for k in range(0, n_cols):\n",
        "        if output[k] == y_test[k]:\n",
        "            count = count + 1\n",
        "        else:\n",
        "            print('错误分类样本的序号：', k + 1)\n",
        "\n",
        "    acc = count / int(a2.shape[1]) * 100\n",
        "    print('准确率：%.2f%%' % acc)\n",
        "\n",
        "    return output"
      ],
      "execution_count": null,
      "outputs": []
    },
    {
      "cell_type": "code",
      "metadata": {
        "colab": {
          "base_uri": "https://localhost:8080/",
          "height": 776
        },
        "id": "4obXx_FMruRL",
        "outputId": "fd289412-bdb4-4ae2-e0da-7b3c8931a651"
      },
      "source": [
        "# 7.结果可视化\n",
        "# 特征有4个维度，类别有1个维度，一共5个维度，故采用了RadViz图\n",
        "def result_visualization(x_test, y_test, result):\n",
        "    cols = y_test.shape[0]\n",
        "    y = []\n",
        "    pre = []\n",
        "    labels = ['setosa', 'versicolor', 'virginica']\n",
        "\n",
        "    # 将0、1、2转换成setosa、versicolor、virginica\n",
        "    for i in range(cols):\n",
        "        y.append(labels[y_test[i]])\n",
        "        pre.append(labels[result[i]])\n",
        "\n",
        "    # 将特征和类别矩阵拼接起来\n",
        "    real = np.column_stack((x_test.T, y))\n",
        "    prediction = np.column_stack((x_test.T, pre))\n",
        "\n",
        "    # 转换成DataFrame类型，并添加columns\n",
        "    df_real = pd.DataFrame(real, index=None, columns=['Sepal Length', 'Sepal Width', 'Petal Length', 'Petal Width', 'Species'])\n",
        "    df_prediction = pd.DataFrame(prediction, index=None, columns=['Sepal Length', 'Sepal Width', 'Petal Length', 'Petal Width', 'Species'])\n",
        "\n",
        "    # 将特征列转换为float类型，否则radviz会报错\n",
        "    df_real[['Sepal Length', 'Sepal Width', 'Petal Length', 'Petal Width']] = df_real[['Sepal Length', 'Sepal Width', 'Petal Length', 'Petal Width']].astype(float)\n",
        "    df_prediction[['Sepal Length', 'Sepal Width', 'Petal Length', 'Petal Width']] = df_prediction[['Sepal Length', 'Sepal Width', 'Petal Length', 'Petal Width']].astype(float)\n",
        "\n",
        "    # 绘图\n",
        "    plt.figure('真实分类')\n",
        "    radviz(df_real, 'Species', color=['blue', 'green', 'red', 'yellow'])\n",
        "    plt.figure('预测分类')\n",
        "    radviz(df_prediction, 'Species', color=['blue', 'green', 'red', 'yellow'])\n",
        "    plt.show()\n",
        "\n",
        "\n",
        "if __name__ == \"__main__\":\n",
        "    # 读取数据\n",
        "    iris = pd.read_csv('/content/iris_training.csv')\n",
        "    X = iris[['SepalLength', 'SepalWidth', 'PetalLength', 'PetalWidth']].values.T  # T是转置\n",
        "    Y = iris['species'].values\n",
        "\n",
        "    # 将标签转换为独热编码\n",
        "    encoder = OneHotEncoder()\n",
        "    Y = encoder.fit_transform(Y.reshape(Y.shape[0], 1))\n",
        "    Y = Y.toarray().T\n",
        "    Y = Y.astype('uint8')\n",
        "\n",
        "    # 开始训练\n",
        "    start_time = datetime.datetime.now()\n",
        "    # 输入4个节点，隐层10个节点，输出3个节点，迭代10000次\n",
        "    parameters = nn_model(X, Y, n_h=10, n_input=4, n_output=3, num_iterations=10000, print_cost=True)\n",
        "    end_time = datetime.datetime.now()\n",
        "    print(\"用时：\" + str(round((end_time - start_time).microseconds / 1000)) + 'ms')\n",
        "\n",
        "    # 对模型进行测试\n",
        "    data_test = pd.read_csv('/content/iris_test.csv')\n",
        "    x_test = data_test[['SepalLength', 'SepalWidth', 'PetalLength', 'PetalWidth']].values.T\n",
        "    y_test = data_test['species'].values\n",
        "\n",
        "    result = predict(parameters, x_test, y_test)\n",
        "\n",
        "    # 分类结果可视化\n",
        "    result_visualization(x_test, y_test, result)\n"
      ],
      "execution_count": null,
      "outputs": [
        {
          "output_type": "stream",
          "text": [
            "迭代第0次，代价函数为：2.079030\n",
            "迭代第1000次，代价函数为：0.466981\n",
            "迭代第2000次，代价函数为：0.167383\n",
            "迭代第3000次，代价函数为：0.104203\n",
            "迭代第4000次，代价函数为：0.088870\n",
            "迭代第5000次，代价函数为：0.086663\n",
            "迭代第6000次，代价函数为：0.085129\n",
            "迭代第7000次，代价函数为：0.084027\n",
            "迭代第8000次，代价函数为：0.083229\n",
            "迭代第9000次，代价函数为：0.082648\n",
            "用时：32ms\n",
            "预测结果： [1 2 0 1 1 1 0 2 1 2 2 0 2 1 1 0 1 0 0 2 0 1 2 2 1 1 0 1 2 1]\n",
            "真实结果： [1 2 0 1 1 1 0 2 1 2 2 0 2 1 1 0 1 0 0 2 0 1 2 1 1 1 0 1 2 1]\n",
            "错误分类样本的序号： 24\n",
            "准确率：96.67%\n"
          ],
          "name": "stdout"
        },
        {
          "output_type": "display_data",
          "data": {
            "image/png": "[encoded data removed]",
            "text/plain": [
              "<Figure size 432x288 with 1 Axes>"
            ]
          },
          "metadata": {
            "tags": [],
            "needs_background": "light"
          }
        },
        {
          "output_type": "display_data",
          "data": {
            "image/png": "[encoded data removed]",
            "text/plain": [
              "<Figure size 432x288 with 1 Axes>"
            ]
          },
          "metadata": {
            "tags": [],
            "needs_background": "light"
          }
        }
      ]
    }
  ]
}